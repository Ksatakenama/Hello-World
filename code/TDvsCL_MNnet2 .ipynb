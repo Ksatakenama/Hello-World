{
 "cells": [
  {
   "cell_type": "code",
   "execution_count": null,
   "metadata": {
    "collapsed": true
   },
   "outputs": [],
   "source": [
    "# coding: UTF-8\n",
    "#2018/10/24\n",
    "#by Kaho Satake\n",
    "#健常者とCLの判定　\n",
    "#前処理完了データ \n",
    "#train_modelのフォルダ\n",
    "#100(Ch)×180(s)\n",
    "#CL(79):1, TD(57):0 "
   ]
  },
  {
   "cell_type": "code",
   "execution_count": 7,
   "metadata": {},
   "outputs": [
    {
     "name": "stderr",
     "output_type": "stream",
     "text": [
      "/home/ksatake/.conda/envs/py3/lib/python3.6/site-packages/chainer/backends/cuda.py:98: UserWarning: cuDNN is not enabled.\n",
      "Please reinstall CuPy after you install cudnn\n",
      "(see https://docs-cupy.chainer.org/en/stable/install.html#install-cudnn).\n",
      "  'cuDNN is not enabled.\\n'\n",
      "/home/ksatake/.conda/envs/py3/lib/python3.6/site-packages/sklearn/cross_validation.py:41: DeprecationWarning: This module was deprecated in version 0.18 in favor of the model_selection module into which all the refactored classes and functions are moved. Also note that the interface of the new CV iterators are different from that of this module. This module will be removed in 0.20.\n",
      "  \"This module will be removed in 0.20.\", DeprecationWarning)\n",
      "/home/ksatake/.conda/envs/py3/lib/python3.6/site-packages/ipykernel_launcher.py:22: UserWarning: \n",
      "This call to matplotlib.use() has no effect because the backend has already\n",
      "been chosen; matplotlib.use() must be called *before* pylab, matplotlib.pyplot,\n",
      "or matplotlib.backends is imported for the first time.\n",
      "\n",
      "The backend was *originally* set to 'module://ipykernel.pylab.backend_inline' by the following code:\n",
      "  File \"/home/ksatake/.conda/envs/py3/lib/python3.6/runpy.py\", line 193, in _run_module_as_main\n",
      "    \"__main__\", mod_spec)\n",
      "  File \"/home/ksatake/.conda/envs/py3/lib/python3.6/runpy.py\", line 85, in _run_code\n",
      "    exec(code, run_globals)\n",
      "  File \"/home/ksatake/.conda/envs/py3/lib/python3.6/site-packages/ipykernel_launcher.py\", line 16, in <module>\n",
      "    app.launch_new_instance()\n",
      "  File \"/home/ksatake/.conda/envs/py3/lib/python3.6/site-packages/traitlets/config/application.py\", line 658, in launch_instance\n",
      "    app.start()\n",
      "  File \"/home/ksatake/.conda/envs/py3/lib/python3.6/site-packages/ipykernel/kernelapp.py\", line 477, in start\n",
      "    ioloop.IOLoop.instance().start()\n",
      "  File \"/home/ksatake/.conda/envs/py3/lib/python3.6/site-packages/zmq/eventloop/ioloop.py\", line 177, in start\n",
      "    super(ZMQIOLoop, self).start()\n",
      "  File \"/home/ksatake/.conda/envs/py3/lib/python3.6/site-packages/tornado/ioloop.py\", line 888, in start\n",
      "    handler_func(fd_obj, events)\n",
      "  File \"/home/ksatake/.conda/envs/py3/lib/python3.6/site-packages/tornado/stack_context.py\", line 277, in null_wrapper\n",
      "    return fn(*args, **kwargs)\n",
      "  File \"/home/ksatake/.conda/envs/py3/lib/python3.6/site-packages/zmq/eventloop/zmqstream.py\", line 440, in _handle_events\n",
      "    self._handle_recv()\n",
      "  File \"/home/ksatake/.conda/envs/py3/lib/python3.6/site-packages/zmq/eventloop/zmqstream.py\", line 472, in _handle_recv\n",
      "    self._run_callback(callback, msg)\n",
      "  File \"/home/ksatake/.conda/envs/py3/lib/python3.6/site-packages/zmq/eventloop/zmqstream.py\", line 414, in _run_callback\n",
      "    callback(*args, **kwargs)\n",
      "  File \"/home/ksatake/.conda/envs/py3/lib/python3.6/site-packages/tornado/stack_context.py\", line 277, in null_wrapper\n",
      "    return fn(*args, **kwargs)\n",
      "  File \"/home/ksatake/.conda/envs/py3/lib/python3.6/site-packages/ipykernel/kernelbase.py\", line 283, in dispatcher\n",
      "    return self.dispatch_shell(stream, msg)\n",
      "  File \"/home/ksatake/.conda/envs/py3/lib/python3.6/site-packages/ipykernel/kernelbase.py\", line 235, in dispatch_shell\n",
      "    handler(stream, idents, msg)\n",
      "  File \"/home/ksatake/.conda/envs/py3/lib/python3.6/site-packages/ipykernel/kernelbase.py\", line 399, in execute_request\n",
      "    user_expressions, allow_stdin)\n",
      "  File \"/home/ksatake/.conda/envs/py3/lib/python3.6/site-packages/ipykernel/ipkernel.py\", line 196, in do_execute\n",
      "    res = shell.run_cell(code, store_history=store_history, silent=silent)\n",
      "  File \"/home/ksatake/.conda/envs/py3/lib/python3.6/site-packages/ipykernel/zmqshell.py\", line 533, in run_cell\n",
      "    return super(ZMQInteractiveShell, self).run_cell(*args, **kwargs)\n",
      "  File \"/home/ksatake/.conda/envs/py3/lib/python3.6/site-packages/IPython/core/interactiveshell.py\", line 2817, in run_cell\n",
      "    raw_cell, store_history, silent, shell_futures)\n",
      "  File \"/home/ksatake/.conda/envs/py3/lib/python3.6/site-packages/IPython/core/interactiveshell.py\", line 2843, in _run_cell\n",
      "    return runner(coro)\n",
      "  File \"/home/ksatake/.conda/envs/py3/lib/python3.6/site-packages/IPython/core/async_helpers.py\", line 67, in _pseudo_sync_runner\n",
      "    coro.send(None)\n",
      "  File \"/home/ksatake/.conda/envs/py3/lib/python3.6/site-packages/IPython/core/interactiveshell.py\", line 3018, in run_cell_async\n",
      "    interactivity=interactivity, compiler=compiler, result=result)\n",
      "  File \"/home/ksatake/.conda/envs/py3/lib/python3.6/site-packages/IPython/core/interactiveshell.py\", line 3183, in run_ast_nodes\n",
      "    if (yield from self.run_code(code, result)):\n",
      "  File \"/home/ksatake/.conda/envs/py3/lib/python3.6/site-packages/IPython/core/interactiveshell.py\", line 3265, in run_code\n",
      "    exec(code_obj, self.user_global_ns, self.user_ns)\n",
      "  File \"<ipython-input-2-68fed0350913>\", line 7, in <module>\n",
      "    from matplotlib import pyplot as plt\n",
      "  File \"/home/ksatake/.conda/envs/py3/lib/python3.6/site-packages/matplotlib/pyplot.py\", line 71, in <module>\n",
      "    from matplotlib.backends import pylab_setup\n",
      "  File \"/home/ksatake/.conda/envs/py3/lib/python3.6/site-packages/matplotlib/backends/__init__.py\", line 16, in <module>\n",
      "    line for line in traceback.format_stack()\n",
      "\n",
      "\n"
     ]
    }
   ],
   "source": [
    "import os\n",
    "import numpy as np\n",
    "import cupy as cp\n",
    "import argparse\n",
    "import glob\n",
    "#import cPickle as pickle\n",
    "import datetime\n",
    "#import itertools\n",
    "from chainer import serializers\n",
    "from matplotlib import pyplot as plt\n",
    "\n",
    "import scipy.io\n",
    "import h5py\n",
    "from sklearn import utils\n",
    "from sklearn import metrics\n",
    "from sklearn.cross_validation import StratifiedKFold\n",
    "from sklearn.cross_validation import KFold\n",
    "import random\n",
    "import gc\n",
    "import csv\n",
    "import matplotlib\n",
    "matplotlib.use('Agg')\n",
    "import matplotlib.pyplot as plt\n",
    "import pandas as pd\n",
    "import random as rd\n",
    "import math\n",
    "from sklearn import preprocessing\n",
    "from sklearn.metrics import confusion_matrix\n",
    "from multiprocessing import Pool\n",
    "from multiprocessing import Process\n",
    "from sklearn.metrics import accuracy_score\n",
    "import pickle\n",
    "import datetime\n",
    "\n",
    "plt.ioff()"
   ]
  },
  {
   "cell_type": "code",
   "execution_count": null,
   "metadata": {
    "collapsed": true
   },
   "outputs": [],
   "source": [
    "len(label)"
   ]
  },
  {
   "cell_type": "code",
   "execution_count": null,
   "metadata": {
    "collapsed": true
   },
   "outputs": [],
   "source": [
    "#npyファイルをload\n",
    "os.environ[\"CUDA_DEVICE_ORDER\"] = \"PCI_BUS_ID\"\n",
    "os.environ[\"CUDA_VISIBLE_DEVICES\"] = \"0\"\n",
    "\n",
    "label = [os.path.basename(r) for r in glob.glob('/work/project/MEG_ChildrenBiomarker/train_model/S*')]\n",
    "print(label)\n",
    "X = [cp.load('/work/project/MEG_ChildrenBiomarker/train_model/'+label[i]) for i in range(0,len(label))]"
   ]
  },
  {
   "cell_type": "code",
   "execution_count": null,
   "metadata": {
    "collapsed": true
   },
   "outputs": [],
   "source": [
    "X"
   ]
  },
  {
   "cell_type": "code",
   "execution_count": null,
   "metadata": {
    "collapsed": true
   },
   "outputs": [],
   "source": [
    "y = [0 if 'TD' in s else 1 for s in label]"
   ]
  },
  {
   "cell_type": "code",
   "execution_count": 1,
   "metadata": {},
   "outputs": [
    {
     "name": "stdout",
     "output_type": "stream",
     "text": [
      "Wed Nov  7 13:19:09 2018       \r\n",
      "+-----------------------------------------------------------------------------+\r\n",
      "| NVIDIA-SMI 384.59                 Driver Version: 384.59                    |\r\n",
      "|-------------------------------+----------------------+----------------------+\r\n",
      "| GPU  Name        Persistence-M| Bus-Id        Disp.A | Volatile Uncorr. ECC |\r\n",
      "| Fan  Temp  Perf  Pwr:Usage/Cap|         Memory-Usage | GPU-Util  Compute M. |\r\n",
      "|===============================+======================+======================|\r\n",
      "|   0  Tesla K80           On   | 00000000:06:00.0 Off |                    0 |\r\n",
      "| N/A   32C    P8    27W / 149W |      1MiB / 11439MiB |      0%      Default |\r\n",
      "+-------------------------------+----------------------+----------------------+\r\n",
      "|   1  Tesla K80           On   | 00000000:07:00.0 Off |                    0 |\r\n",
      "| N/A   27C    P8    30W / 149W |      1MiB / 11439MiB |      0%      Default |\r\n",
      "+-------------------------------+----------------------+----------------------+\r\n",
      "                                                                               \r\n",
      "+-----------------------------------------------------------------------------+\r\n",
      "| Processes:                                                       GPU Memory |\r\n",
      "|  GPU       PID  Type  Process name                               Usage      |\r\n",
      "|=============================================================================|\r\n",
      "|  No running processes found                                                 |\r\n",
      "+-----------------------------------------------------------------------------+\r\n"
     ]
    }
   ],
   "source": [
    "!nvidia-smi"
   ]
  },
  {
   "cell_type": "markdown",
   "metadata": {},
   "source": [
    "## Deeplearning"
   ]
  },
  {
   "cell_type": "code",
   "execution_count": 24,
   "metadata": {
    "collapsed": true
   },
   "outputs": [],
   "source": [
    "import keras\n",
    "from keras.datasets import mnist\n",
    "from keras.models import Sequential\n",
    "from keras.layers import Dense, Dropout, Reshape, Flatten, Conv2D, MaxPooling2D, normalization, activations\n",
    "from keras.optimizers import RMSprop\n",
    "from keras.callbacks import Callback, CSVLogger\n",
    "from matplotlib import pyplot as plt\n",
    "from sklearn.model_selection import train_test_split\n",
    "import argparse\n",
    "import os"
   ]
  },
  {
   "cell_type": "code",
   "execution_count": 8,
   "metadata": {
    "collapsed": true
   },
   "outputs": [],
   "source": [
    "class PlotLosses(Callback):\n",
    "    '''\n",
    "    学習中のlossについてlive plotする\n",
    "    '''\n",
    "\n",
    "    def on_train_begin(self, logs={}):\n",
    "        '''\n",
    "        訓練開始時に実施\n",
    "        '''\n",
    "        self.epoch_cnt = 0      # epochの回数を初期化\n",
    "        plt.axis([0, self.epochs, 0, 0.25])\n",
    "        plt.ion()               # pyplotをinteractive modeにする\n",
    "\n",
    "    def on_train_end(self, logs={}):\n",
    "        '''\n",
    "        訓練修了時に実施\n",
    "        '''\n",
    "        plt.ioff()              # pyplotのinteractive modeをoffにする\n",
    "        plt.legend(['loss', 'val_loss'], loc='best')\n",
    "        plt.show()\n",
    "\n",
    "    def on_epoch_end(self, epoch, logs={}):\n",
    "        '''\n",
    "        epochごとに実行する処理\n",
    "        '''\n",
    "        loss = logs.get('loss')\n",
    "        val_loss = logs.get('val_loss')\n",
    "        x = self.epoch_cnt\n",
    "        # epochごとのlossとval_lossをplotする\n",
    "        plt.scatter(x, loss, c='b', label='loss')\n",
    "        plt.scatter(x, val_loss, c='r', label='val_loss')\n",
    "        plt.pause(0.05)\n",
    "        # epoch回数をcount up\n",
    "        self.epoch_cnt += 1"
   ]
  },
  {
   "cell_type": "code",
   "execution_count": 9,
   "metadata": {
    "collapsed": true
   },
   "outputs": [],
   "source": [
    "def plot_result(history):\n",
    "    '''\n",
    "    plot result\n",
    "    全ての学習が終了した後に、historyを参照して、accuracyとlossをそれぞれplotする\n",
    "    '''\n",
    "\n",
    "    # accuracy\n",
    "    plt.figure()\n",
    "    plt.plot(history.history['acc'], label='acc', marker='.')\n",
    "    plt.plot(history.history['val_acc'], label='val_acc', marker='.')\n",
    "    plt.grid()\n",
    "    plt.legend(loc='best')\n",
    "    plt.title('accuracy')\n",
    "    plt.savefig('graph_accuracy.png')\n",
    "    plt.show()\n",
    "\n",
    "    # loss\n",
    "    plt.figure()\n",
    "    plt.plot(history.history['loss'], label='loss', marker='.')\n",
    "    plt.plot(history.history['val_loss'], label='val_loss', marker='.')\n",
    "    plt.grid()\n",
    "    plt.legend(loc='best')\n",
    "    plt.title('loss')\n",
    "    plt.savefig('graph_loss.png')\n",
    "    plt.show()"
   ]
  },
  {
   "cell_type": "code",
   "execution_count": 10,
   "metadata": {
    "collapsed": true
   },
   "outputs": [],
   "source": [
    "def main(epochs=12, batch_size=128):\n",
    "\n",
    "    # load data\n",
    "    x_train, x_test, y_train, y_test = train_test_split(X, y, test_size=0.175)\n",
    "\n",
    "    x_train = x_train.reshape(x_train.shape[0], 150, 100, 1).astype('float32')\n",
    "    x_test = x_test.reshape(x_test.shape[0], 150, 100, 1).astype('float32')\n",
    "    \n",
    "    # convert one-hot vector\n",
    "    y_train = keras.utils.to_categorical(y_train, 2) \n",
    "    y_test = keras.utils.to_categorical(y_test, 2) \n",
    "    \n",
    "    # create model\n",
    "    model = Sequential()\n",
    "    ###conv1 = F.Convolution2D( 1[ch], 40[output], (160, 8)[input], stride=(1, 1)[stride]),\n",
    "    ###norm1 = F.BatchNormalization(40),\n",
    "    ###h = F.relu(model_use.norm1(model_use.conv1(x), test=test))\n",
    "    '''conv1'''\n",
    "    model.add(Conv2D(40, input_shape=(160, 800, 1), kernel_size=8, strides=1, activation='relu'))#[output], kernel_size=[filter], \n",
    "    '''conv2'''\n",
    "    model.add(Conv2D(40, kernel_size=8, strides=1, activation='relu'))\n",
    "    ##conv2 = F.Convolution2D(40, 40, (1, 8), stride=(1, 1)),\n",
    "    ##norm2 = F.BatchNormalization(40),\n",
    "    ##h = F.relu(model_use.norm2(model_use.conv2(h), test=test))\n",
    "    '''MaxPooing'''\n",
    "    model.add(MaxPooling2D(pool_size=10, strides=10))\n",
    "    \n",
    "    '''ここで平均特徴量の算出??'''\n",
    "    '''conv3'''\n",
    "    model.add(Conv2D(50, kernel_size=(8,12), strides=1, activation='relu')) \n",
    "    '''MaxPooling'''\n",
    "    model.add(MaxPooling2D(pool_size=3, strides=3))\n",
    "    '''conv4'''\n",
    "    model.add(Conv2D(50, kernel_size=(1,5), strides=1, activation='relu'))\n",
    "    '''MaxPooling'''\n",
    "    model.add((MaxPooling2D(pool_size=(1,2), strides=(1,2))))\n",
    "    ##conv4 = F.Convolution2D( 1, 50, (8, 12), stride=(1, 1)),\n",
    "    ##norm4 = F.BatchNormalization(50),\n",
    "    ##h = F.relu(model_use.norm4(model_use.conv4(h), test=test))\n",
    "    ##h = F.max_pooling_2d(h, 3, stride=3)\n",
    "    ##h = F.max_pooling_2d(h, (1, 2), stride=(1, 2))\n",
    "    '''fc6'''\n",
    "    \n",
    "    model.add(Dense(1024,input_shape=(5500, 5500) activation='relu'))\n",
    "    model.add(Dropout(0.5))\n",
    "    ##fc6 = F.Linear(5500, 5500),\n",
    "    ##norm6=F.BatchNormalization(5500),\n",
    "    '''fc7'''\n",
    "    model.add(Dense(2, input_shape=(5500, 1024), activation='relu'))\n",
    "    model.add(Dropout(0.5))\n",
    "    model.add()\n",
    "\n",
    "    sgd = optimizers.SGD(lr=0.5)\n",
    "    model.compile(loss='categorical_crossentropy',\n",
    "                  optimizer= sgd,\n",
    "                  metrics=['accuracy'])\n",
    "\n",
    "    print(model.summary())\n",
    "    \n",
    "    # 中間結果等を保存するディレクトリ\n",
    "    save_dir = '/work/project/MEG_ChildrenBiomarker/log'\n",
    "\n",
    "    # 保存先ディレクトリ名を生成\n",
    "    # フラグを設定して付けるのが大変なので，ディレクトリ名は日付から生成する\n",
    "    now = datetime.datetime.today()\n",
    "    dir_name = '{0:%Y-%m-%d_%H-%M-%S_log_samples}'.format(now)\n",
    "    save_dir = os.path.join(save_dir, dir_name)\n",
    "    # 保存先ディレクトリを生成\n",
    "    if not os.path.isdir(save_dir):\n",
    "        os.mkdir(save_dir)\n",
    "        os.chmod(save_dir,777)\n",
    "    \n",
    "    # callback function\n",
    "    plot_losses = PlotLosses()   # グラフ表示(live plot)\n",
    "    plot_losses.epochs = epochs\n",
    "    csv_logger = CSVLogger(save_dir+'trainlog.csv')\n",
    "\n",
    "    # train\n",
    "    history = model.fit(x_train, y_train,\n",
    "                        batch_size=batch_size, epochs=epochs,\n",
    "                        verbose=1,\n",
    "                        validation_data=(x_valid, y_valid),\n",
    "                        callbacks=[plot_losses, csv_logger])\n",
    "\n",
    "    # result\n",
    "    score = model.evaluate(x_test, y_test, verbose=0)\n",
    "    print('Test loss: {0}'.format(score[0]))\n",
    "    print('Test accuracy: {0}'.format(score[1]))\n",
    "\n",
    "    plot_result(history)"
   ]
  },
  {
   "cell_type": "code",
   "execution_count": 11,
   "metadata": {},
   "outputs": [
    {
     "name": "stdout",
     "output_type": "stream",
     "text": [
      "_________________________________________________________________\n",
      "Layer (type)                 Output Shape              Param #   \n",
      "=================================================================\n",
      "conv2d_3 (Conv2D)            (None, 26, 26, 32)        320       \n",
      "_________________________________________________________________\n",
      "conv2d_4 (Conv2D)            (None, 24, 24, 64)        18496     \n",
      "_________________________________________________________________\n",
      "max_pooling2d_2 (MaxPooling2 (None, 12, 12, 64)        0         \n",
      "_________________________________________________________________\n",
      "dropout_3 (Dropout)          (None, 12, 12, 64)        0         \n",
      "_________________________________________________________________\n",
      "flatten_2 (Flatten)          (None, 9216)              0         \n",
      "_________________________________________________________________\n",
      "dense_3 (Dense)              (None, 128)               1179776   \n",
      "_________________________________________________________________\n",
      "dropout_4 (Dropout)          (None, 128)               0         \n",
      "_________________________________________________________________\n",
      "dense_4 (Dense)              (None, 10)                1290      \n",
      "=================================================================\n",
      "Total params: 1,199,882\n",
      "Trainable params: 1,199,882\n",
      "Non-trainable params: 0\n",
      "_________________________________________________________________\n",
      "None\n",
      "Train on 49500 samples, validate on 10500 samples\n",
      "Epoch 1/12\n",
      "49500/49500 [==============================] - 16s 325us/step - loss: 0.2346 - acc: 0.9278 - val_loss: 0.0738 - val_acc: 0.9790\n"
     ]
    },
    {
     "data": {
      "image/png": "[encoded data removed]",
      "text/plain": [
       "<Figure size 432x288 with 1 Axes>"
      ]
     },
     "metadata": {},
     "output_type": "display_data"
    },
    {
     "name": "stdout",
     "output_type": "stream",
     "text": [
      "Epoch 2/12\n",
      "49500/49500 [==============================] - 6s 123us/step - loss: 0.0837 - acc: 0.9749 - val_loss: 0.0546 - val_acc: 0.9832\n"
     ]
    },
    {
     "data": {
      "image/png": "[encoded data removed]",
      "text/plain": [
       "<Figure size 432x288 with 1 Axes>"
      ]
     },
     "metadata": {},
     "output_type": "display_data"
    },
    {
     "name": "stdout",
     "output_type": "stream",
     "text": [
      "Epoch 3/12\n",
      "49500/49500 [==============================] - 6s 123us/step - loss: 0.0638 - acc: 0.9809 - val_loss: 0.0471 - val_acc: 0.9855\n"
     ]
    },
    {
     "data": {
      "image/png": "[encoded data removed]",
      "text/plain": [
       "<Figure size 432x288 with 1 Axes>"
      ]
     },
     "metadata": {},
     "output_type": "display_data"
    },
    {
     "name": "stdout",
     "output_type": "stream",
     "text": [
      "Epoch 4/12\n",
      "49500/49500 [==============================] - 6s 122us/step - loss: 0.0533 - acc: 0.9845 - val_loss: 0.0501 - val_acc: 0.9852\n"
     ]
    },
    {
     "data": {
      "image/png": "[encoded data removed]",
      "text/plain": [
       "<Figure size 432x288 with 1 Axes>"
      ]
     },
     "metadata": {},
     "output_type": "display_data"
    },
    {
     "name": "stdout",
     "output_type": "stream",
     "text": [
      "Epoch 5/12\n",
      "49500/49500 [==============================] - 6s 122us/step - loss: 0.0481 - acc: 0.9861 - val_loss: 0.0432 - val_acc: 0.9876\n"
     ]
    },
    {
     "data": {
      "image/png": "[encoded data removed]",
      "text/plain": [
       "<Figure size 432x288 with 1 Axes>"
      ]
     },
     "metadata": {},
     "output_type": "display_data"
    },
    {
     "name": "stdout",
     "output_type": "stream",
     "text": [
      "Epoch 6/12\n",
      "49500/49500 [==============================] - 6s 122us/step - loss: 0.0417 - acc: 0.9881 - val_loss: 0.0456 - val_acc: 0.9875\n"
     ]
    },
    {
     "data": {
      "image/png": "[encoded data removed]",
      "text/plain": [
       "<Figure size 432x288 with 1 Axes>"
      ]
     },
     "metadata": {},
     "output_type": "display_data"
    },
    {
     "name": "stdout",
     "output_type": "stream",
     "text": [
      "Epoch 7/12\n",
      "49500/49500 [==============================] - 6s 123us/step - loss: 0.0387 - acc: 0.9880 - val_loss: 0.0432 - val_acc: 0.9874\n"
     ]
    },
    {
     "data": {
      "image/png": "[encoded data removed]",
      "text/plain": [
       "<Figure size 432x288 with 1 Axes>"
      ]
     },
     "metadata": {},
     "output_type": "display_data"
    },
    {
     "name": "stdout",
     "output_type": "stream",
     "text": [
      "Epoch 8/12\n",
      "49500/49500 [==============================] - 6s 123us/step - loss: 0.0403 - acc: 0.9883 - val_loss: 0.0482 - val_acc: 0.9859\n"
     ]
    },
    {
     "data": {
      "image/png": "[encoded data removed]",
      "text/plain": [
       "<Figure size 432x288 with 1 Axes>"
      ]
     },
     "metadata": {},
     "output_type": "display_data"
    },
    {
     "name": "stdout",
     "output_type": "stream",
     "text": [
      "Epoch 9/12\n",
      "49500/49500 [==============================] - 6s 123us/step - loss: 0.0406 - acc: 0.9879 - val_loss: 0.0421 - val_acc: 0.9877\n"
     ]
    },
    {
     "data": {
      "image/png": "[encoded data removed]",
      "text/plain": [
       "<Figure size 432x288 with 1 Axes>"
      ]
     },
     "metadata": {},
     "output_type": "display_data"
    },
    {
     "name": "stdout",
     "output_type": "stream",
     "text": [
      "Epoch 10/12\n",
      "49500/49500 [==============================] - 6s 123us/step - loss: 0.0395 - acc: 0.9884 - val_loss: 0.0458 - val_acc: 0.9882\n"
     ]
    },
    {
     "data": {
      "image/png": "[encoded data removed]",
      "text/plain": [
       "<Figure size 432x288 with 1 Axes>"
      ]
     },
     "metadata": {},
     "output_type": "display_data"
    },
    {
     "name": "stdout",
     "output_type": "stream",
     "text": [
      "Epoch 11/12\n",
      "49500/49500 [==============================] - 6s 123us/step - loss: 0.0434 - acc: 0.9878 - val_loss: 0.0451 - val_acc: 0.9896\n"
     ]
    },
    {
     "data": {
      "image/png": "[encoded data removed]",
      "text/plain": [
       "<Figure size 432x288 with 1 Axes>"
      ]
     },
     "metadata": {},
     "output_type": "display_data"
    },
    {
     "name": "stdout",
     "output_type": "stream",
     "text": [
      "Epoch 12/12\n",
      "49500/49500 [==============================] - 6s 123us/step - loss: 0.0433 - acc: 0.9878 - val_loss: 0.0434 - val_acc: 0.9886\n"
     ]
    },
    {
     "data": {
      "image/png": "[encoded data removed]",
      "text/plain": [
       "<Figure size 432x288 with 1 Axes>"
      ]
     },
     "metadata": {},
     "output_type": "display_data"
    },
    {
     "data": {
      "image/png": "[encoded data removed]",
      "text/plain": [
       "<Figure size 432x288 with 1 Axes>"
      ]
     },
     "metadata": {},
     "output_type": "display_data"
    },
    {
     "name": "stdout",
     "output_type": "stream",
     "text": [
      "Test loss: 0.036914591207902414\n",
      "Test accuracy: 0.9891\n"
     ]
    },
    {
     "data": {
      "image/png": "[encoded data removed]",
      "text/plain": [
       "<Figure size 432x288 with 1 Axes>"
      ]
     },
     "metadata": {},
     "output_type": "display_data"
    },
    {
     "data": {
      "image/png": "[encoded data removed]",
      "text/plain": [
       "<Figure size 432x288 with 1 Axes>"
      ]
     },
     "metadata": {},
     "output_type": "display_data"
    }
   ],
   "source": [
    "import easydict\n",
    "os.environ[\"CUDA_DEVICE_ORDER\"] = \"PCI_BUS_ID\"\n",
    "os.environ[\"CUDA_VISIBLE_DEVICES\"] = \"0\"\n",
    "\n",
    "if __name__ == '__main__':\n",
    "    args = easydict.EasyDict({\n",
    "        \"batch_size\": 128,\n",
    "        \"epochs\": 12,\n",
    "        })\n",
    "\n",
    "    args = vars(args)\n",
    "    if args['epochs']:\n",
    "        epochs = args['epochs']\n",
    "    else:\n",
    "        epochs = 12\n",
    "    if args['batch_size']:\n",
    "        batch_size = args['batch_size']\n",
    "    else:\n",
    "        batch_size = 128\n",
    "\n",
    "    main(epochs, batch_size)"
   ]
  },
  {
   "cell_type": "code",
   "execution_count": null,
   "metadata": {
    "collapsed": true
   },
   "outputs": [],
   "source": [
    "#parser = argparse.ArgumentParser(description='Chainer')\n",
    "\n",
    "# GPU ID\n",
    "#parser.add_argument('--gpu', default=0, type=int,help='GPU ID (negative value indicates CPU)')\n",
    "# 最大エポック数\n",
    "#parser.add_argument('--max_epochs', default=10, help='max epochs', type=int)\n",
    "# Batch size\n",
    "#parser.add_argument('--batch_size', default=2, help='size of batch', type=int)\n",
    "### 1人の被検者あたりに何個のデータを取るか\n",
    "####parser.add_argument('--num_for_each', default=3, help='number for each patient', type=int)\n",
    "# weight_decayパラメータ\n",
    "#parser.add_argument('--weight_decay', default=0.0005, help='weight decay', type=float)\n",
    "# 学習率パラメータ\n",
    "#parser.add_argument('--lr', default=0.001, help='learning rate', type=float)\n",
    "# fold number for K-fold\n",
    "#parser.add_argument('--fold_number', default=2, help='fold number', type=int)\n",
    "\n",
    "\n",
    "# コマンドラインの引数を解釈\n",
    "#args = parser.parse_args()\n",
    "# さらに，辞書形式に変換\n",
    "#args = vars(args)\n",
    "#GPU_ID = args['gpu']\n",
    "#EPOCH_N = args['max_epochs']\n",
    "#BATCH_SIZE = args['batch_size']\n",
    "#NUM_FOR_EACH = args['num_for_each']\n",
    "#WEIGHT_DECAY = args['weight_decay']\n",
    "#LR = args['lr']\n",
    "#FOLD_N= args['fold_number']\n",
    "\n",
    "\n",
    "'''https://qiita.com/LittleWat/items/6e56857e1f97c842b261'''"
   ]
  },
  {
   "cell_type": "code",
   "execution_count": null,
   "metadata": {
    "collapsed": true
   },
   "outputs": [],
   "source": [
    "fpath = '/work/project/MEG_ChildrenBiomarker/code/data_table.csv'\n",
    "Data_table = pd.read_csv(fpath)\n",
    "Data_table"
   ]
  },
  {
   "cell_type": "code",
   "execution_count": null,
   "metadata": {
    "collapsed": true
   },
   "outputs": [],
   "source": [
    "def balanced_accuracy_score(y_true, y_pred):\n",
    "    C = metrics.confusion_matrix(y_true,y_pred).astype(np.float32)\n",
    "    # print 'balanced with {0:d} labels!'.format(C.shape[0])\n",
    "    return np.mean(np.diag(C) / np.sum(C,axis=1))"
   ]
  },
  {
   "cell_type": "code",
   "execution_count": null,
   "metadata": {
    "collapsed": true
   },
   "outputs": [],
   "source": [
    "def load_img(args):\n",
    "    I,j,Rand_id,index,NUM_FOR_EACH,Total_patient,Data_aq,Sample_num,File_path,result,disease_flag,label = args\n",
    "    #print 'debug_j'\n",
    "    #print j\n",
    "    tmp_txt=''\n",
    "    if (I + j >= Rand_id.shape[0]):\n",
    "        # 最後のバッチの大きさが足りない場合\n",
    "        pass\n",
    "    else:\n",
    "        Patient_N = index[Rand_id[I + j] / NUM_FOR_EACH]\n",
    "        tmp_txt += 'patinet_n{0}\\n'.format(Patient_N)\n",
    "        res = Rand_id[I + j] % NUM_FOR_EACH\n",
    "        loop_flag = 1\n",
    "        for i in xrange(Total_patient):\n",
    "            if (loop_flag):\n",
    "                if (Data_aq[Patient_N, res] < np.sum(Sample_num[Patient_N, 0:i])):\n",
    "                    s_n = int(Data_aq[Patient_N, res] - np.sum(Sample_num[Patient_N, 0:i - 1]))\n",
    "                    fn = File_path[Patient_N, i - 1]\n",
    "                    signal_data = h5py.File(fn, 'r')\n",
    "                    meg_dat = signal_data['meg_dat'].value\n",
    "                    tmp = meg_dat[s_n+10000:s_n + 10800, :]\n",
    "                    tmp = tmp.transpose()\n",
    "                    tmp = tmp[np.newaxis, np.newaxis, :, :]\n",
    "                    tmp = tmp.astype(np.float32)\n",
    "                    result[j, :, :, :] = tmp\n",
    "                    loop_flag = 0\n",
    "    tmp_res=[]\n",
    "    tmp_res.append(result)\n",
    "    tmp_res.append(tmp_txt)\n",
    "    return tmp_res"
   ]
  },
  {
   "cell_type": "code",
   "execution_count": null,
   "metadata": {
    "collapsed": true
   },
   "outputs": [],
   "source": [
    "def load_label(args):\n",
    "    I,j,Rand_id,index,NUM_FOR_EACH,Total_patient,Data_aq,Sample_num,File_path,result,disease_flag,label = args\n",
    "    if (I + j >= Rand_id.shape[0]):\n",
    "        # 最後のバッチの大きさが足りない場合\n",
    "        return None\n",
    "    else:\n",
    "        Patient_N = index[Rand_id[I + j] / NUM_FOR_EACH]\n",
    "        lab=disease_flag[Patient_N, 0]\n",
    "        #print 'debug_label_j'\n",
    "        #print j\n",
    "        #print lab\n",
    "        return lab"
   ]
  },
  {
   "cell_type": "code",
   "execution_count": null,
   "metadata": {
    "collapsed": true
   },
   "outputs": [],
   "source": [
    "def Load_Batch(I, NUM_FOR_EACH,Rand_id, index,Data_aq,Batch_size, File_path, Sample_num, Total_patient):\n",
    "    result=np.zeros((Batch_size,1,160,800),dtype=np.float32) #800sample,160chを仮定\n",
    "    label=[]\n",
    "    p=Pool(10)\n",
    "    tmp_res= p.map(load_img,[ (I,j,Rand_id,index,NUM_FOR_EACH,Total_patient,Data_aq,Sample_num,File_path,result,disease_flag,label) for j in xrange(Batch_size) ])\n",
    "    tmp_lab = p.map(load_label, [(I, j, Rand_id, index, NUM_FOR_EACH, Total_patient, Data_aq, Sample_num, File_path, result, disease_flag, label) for j in xrange(Batch_size)])\n",
    "    #print tmp_res[0].shape\n",
    "    #print tmp_lab\n",
    "    p.close()\n",
    "    for k in xrange(len(tmp_res)):\n",
    "        #print tmp[k]\n",
    "        result+=(tmp_res[k])[0]\n",
    "\n",
    "    #print result\n",
    "    #print len(label)\n",
    "    label=np.array(tmp_lab)\n",
    "    #print label\n",
    "    #print type(label[0])\n",
    "    #print result.shape\n",
    "\n",
    "    #print result.shape\n",
    "    #channel毎のscale\n",
    "\n",
    "    for a in range(result.shape[0]):\n",
    "        for b in range(result.shape[2]):\n",
    "            result[a, 0, b, :] = preprocessing.scale(result[a, 0, b, :] )\n",
    "            #print 'debug'\n",
    "            #print result[a, 0, b, :].mean(axis=0)\n",
    "            #print result[a, 0, b, :].std(axis=0)\n",
    "\n",
    "    result = result[0:label.shape[0], :, :, :]\n",
    "\n",
    "    #print 'debug'\n",
    "    #save_debug = os.path.join(save_dir, 'debug.npz')\n",
    "    #np.savez(save_debug, result=result, label=label)\n",
    "    #print result.shape\n",
    "    return result,label"
   ]
  },
  {
   "cell_type": "code",
   "execution_count": null,
   "metadata": {
    "collapsed": true
   },
   "outputs": [],
   "source": [
    "def Load_Test_Batch(Index_num,Test_batch_size, File_path, Disease_flag):\n",
    "    result=np.zeros((Test_batch_size,1,160,800),dtype=np.float32)\n",
    "    label = np.ones((Test_batch_size),dtype=np.int32)*Disease_flag[Index_num,0]\n",
    "\n",
    "    fn = File_path[Index_num, 0]\n",
    "    signal_data = h5py.File(fn, 'r')\n",
    "    meg_dat = signal_data['meg_dat'].value\n",
    "\n",
    "    for j in xrange(Test_batch_size):\n",
    "        tmp = meg_dat[j*800+10000:(j+1)*800+10000, :]\n",
    "        tmp = tmp.transpose()\n",
    "        tmp = tmp[np.newaxis, np.newaxis, :, :]\n",
    "        tmp = tmp.astype(np.float32)\n",
    "        result[j, :, :, :] = tmp\n",
    "\n",
    "    #channel毎のscale\n",
    "    for a in range(result.shape[0]):\n",
    "        for b in range(result.shape[2]):\n",
    "            result[a, 0, b, :] = preprocessing.scale(result[a, 0, b, :] )\n",
    "\n",
    "    return result,label"
   ]
  },
  {
   "cell_type": "code",
   "execution_count": null,
   "metadata": {
    "collapsed": true
   },
   "outputs": [],
   "source": [
    "def forward(x_data, y_data, model_use, train=True ):\n",
    "    x, t = Variable(x_data), Variable(y_data)\n",
    "    test = not train\n",
    "\n",
    "    h = F.relu(model_use.norm1(model_use.conv1(x), test=test))\n",
    "    h = F.relu(model_use.norm2(model_use.conv2(h), test=test))\n",
    "    h = F.max_pooling_2d(h, (1, 10), stride=(1, 10)) # stride=(1, 160) -> stride=(1, 20)\n",
    "    h = F.reshape(h, (h.data.shape[0], h.data.shape[2], h.data.shape[1], h.data.shape[3]))\n",
    "\n",
    "    h = F.relu(model_use.norm4(model_use.conv4(h), test=test))\n",
    "    h = F.max_pooling_2d(h, 3, stride=3)\n",
    "    h = F.relu(model_use.norm5(model_use.conv5(h), test=test))\n",
    "    h = F.max_pooling_2d(h, (1, 2), stride=(1, 2))\n",
    "\n",
    "    h = F.relu(model_use.norm6(model_use.fc6(h), test=test))\n",
    "    h = F.dropout(h, train=train)\n",
    "    h = F.relu(model_use.norm7(model_use.fc7(h), test=test))\n",
    "    h = F.dropout(h, train=train)\n",
    "    y = model_use.fc8(h)\n",
    "\n",
    "    if train:\n",
    "        return F.softmax_cross_entropy(y, t), F.accuracy(y, t), F.softmax(y)\n",
    "    else:\n",
    "        return F.softmax(y)"
   ]
  },
  {
   "cell_type": "code",
   "execution_count": null,
   "metadata": {
    "collapsed": true
   },
   "outputs": [],
   "source": [
    "# 計算コンディションを出力する\n",
    "# まずは，プログラムの引数\n",
    "log_txt=''\n",
    "log_txt += '-----------Arguments-----------\\n'\n",
    "for key, value in args.iteritems():\n",
    "    log_txt += key + ': ' +  value.__str__() + '\\n'\n",
    "log_txt += '\\n'\n",
    "\n",
    "#Cross validation K-fold\n",
    "skf = StratifiedKFold(disease_flag[:,0], n_folds=FOLD_N, shuffle=True)\n",
    "# Currnet fold number\n",
    "c_f=0\n",
    "\n",
    "#データ数\n",
    "N_data=136*100\n",
    "#*2をしているのは、ラベルに用いていない2をはじめに配列に入れておくことで、後で、除去できるようにするため。\n",
    "#train dataにおいて、各fold,各epochでのラベルの予測を保存する配列\n",
    "train_labels_pred=np.ones((FOLD_N,N_data,EPOCH_N))*2\n",
    "#train dataにおいて、各fold,各epochでのラベルの真値を保存する配列\n",
    "train_labels_true=np.ones((FOLD_N,N_data,EPOCH_N))*2"
   ]
  },
  {
   "cell_type": "code",
   "execution_count": null,
   "metadata": {
    "collapsed": true
   },
   "outputs": [],
   "source": []
  }
 ],
 "metadata": {
  "kernelspec": {
   "display_name": "Python 3",
   "language": "python",
   "name": "python3"
  },
  "language_info": {
   "codemirror_mode": {
    "name": "ipython",
    "version": 3
   },
   "file_extension": ".py",
   "mimetype": "text/x-python",
   "name": "python",
   "nbconvert_exporter": "python",
   "pygments_lexer": "ipython3",
   "version": "3.6.2"
  }
 },
 "nbformat": 4,
 "nbformat_minor": 2
}
